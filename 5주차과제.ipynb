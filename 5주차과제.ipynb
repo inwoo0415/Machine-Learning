{
  "nbformat": 4,
  "nbformat_minor": 0,
  "metadata": {
    "colab": {
      "provenance": [],
      "collapsed_sections": [
        "ch4S5xqzfAA5",
        "lxtT1zTKfh0w",
        "WvYu5ULailDY",
        "u2GQ6EJmlBn_"
      ],
      "authorship_tag": "ABX9TyMZLRSNxEg+obiWaXALUG2h",
      "include_colab_link": true
    },
    "kernelspec": {
      "name": "python3",
      "display_name": "Python 3"
    },
    "language_info": {
      "name": "python"
    },
    "accelerator": "GPU",
    "gpuClass": "standard"
  },
  "cells": [
    {
      "cell_type": "markdown",
      "metadata": {
        "id": "view-in-github",
        "colab_type": "text"
      },
      "source": [
        "<a href=\"https://colab.research.google.com/github/inwoo0415/Machine-Learning/blob/main/5%EC%A3%BC%EC%B0%A8%EA%B3%BC%EC%A0%9C.ipynb\" target=\"_parent\"><img src=\"https://colab.research.google.com/assets/colab-badge.svg\" alt=\"Open In Colab\"/></a>"
      ]
    },
    {
      "cell_type": "code",
      "execution_count": null,
      "metadata": {
        "id": "0uyx7esqeNgd"
      },
      "outputs": [],
      "source": [
        "import tensorflow as tf\n",
        "import numpy as np\n",
        "import matplotlib.pyplot as plt\n",
        "\n",
        "##print(tf.excuting_eagerly())"
      ]
    },
    {
      "cell_type": "markdown",
      "source": [
        "# 변수 저장하기\n"
      ],
      "metadata": {
        "id": "ch4S5xqzfAA5"
      }
    },
    {
      "cell_type": "code",
      "source": [
        "a = 5\n",
        "b = 3\n",
        "c = tf.math.add(a,b)\n",
        "c"
      ],
      "metadata": {
        "colab": {
          "base_uri": "https://localhost:8080/"
        },
        "id": "vPF7WDNSfEh4",
        "outputId": "baa0ef19-22bc-4852-e460-9f8945314571"
      },
      "execution_count": null,
      "outputs": [
        {
          "output_type": "execute_result",
          "data": {
            "text/plain": [
              "<tf.Tensor: shape=(), dtype=int32, numpy=8>"
            ]
          },
          "metadata": {},
          "execution_count": 12
        }
      ]
    },
    {
      "cell_type": "code",
      "source": [
        "c.numpy()"
      ],
      "metadata": {
        "colab": {
          "base_uri": "https://localhost:8080/"
        },
        "id": "U9Nbh-VXfcNT",
        "outputId": "8beb3c74-fe60-4c76-dd13-81c8d73f850c"
      },
      "execution_count": null,
      "outputs": [
        {
          "output_type": "execute_result",
          "data": {
            "text/plain": [
              "8"
            ]
          },
          "metadata": {},
          "execution_count": 13
        }
      ]
    },
    {
      "cell_type": "markdown",
      "source": [
        "# 스칼라 정의하기\n",
        "1.rank() : 0\n",
        "2.shape() : 0\n",
        "3.int : 32비트\n",
        "4.cast() : 자료형 변한"
      ],
      "metadata": {
        "id": "lxtT1zTKfh0w"
      }
    },
    {
      "cell_type": "code",
      "source": [
        "c1 = tf.constant(1)\n",
        "c2 = tf.constant(2)\n",
        "print(c1,c2)"
      ],
      "metadata": {
        "colab": {
          "base_uri": "https://localhost:8080/"
        },
        "id": "Ipw2igYPgEAm",
        "outputId": "5a367b9e-6642-4261-d284-70579b93cd85"
      },
      "execution_count": null,
      "outputs": [
        {
          "output_type": "stream",
          "name": "stdout",
          "text": [
            "tf.Tensor(1, shape=(), dtype=int32) tf.Tensor(2, shape=(), dtype=int32)\n"
          ]
        }
      ]
    },
    {
      "cell_type": "code",
      "source": [
        "f1 = tf.cast(c1,tf.float32)\n",
        "f2 = tf.cast(c2,tf.float32) ## cast : 형변환\n",
        "print(f1,f2)"
      ],
      "metadata": {
        "colab": {
          "base_uri": "https://localhost:8080/"
        },
        "id": "_M7bPIH3gQek",
        "outputId": "7edf1d8b-3c46-462e-cc65-65e939b297e5"
      },
      "execution_count": null,
      "outputs": [
        {
          "output_type": "stream",
          "name": "stdout",
          "text": [
            "tf.Tensor(1.0, shape=(), dtype=float32) tf.Tensor(2.0, shape=(), dtype=float32)\n"
          ]
        }
      ]
    },
    {
      "cell_type": "markdown",
      "source": [
        "1.add()\n",
        "2.subtract()\n",
        "3.mutiply()\n",
        "4.divide()\n",
        "5.mode(): 나머지\n",
        "6.floordiv() : 몫"
      ],
      "metadata": {
        "id": "ZtqiOv54gn7o"
      }
    },
    {
      "cell_type": "code",
      "source": [
        "##덧셈\n",
        "add = tf.math.add(c1,c2)\n",
        "add.numpy()"
      ],
      "metadata": {
        "colab": {
          "base_uri": "https://localhost:8080/"
        },
        "id": "SqkPJvrmg0Kb",
        "outputId": "f6865419-f0a1-43ef-ab52-dad6b8565b6f"
      },
      "execution_count": null,
      "outputs": [
        {
          "output_type": "execute_result",
          "data": {
            "text/plain": [
              "3"
            ]
          },
          "metadata": {},
          "execution_count": 17
        }
      ]
    },
    {
      "cell_type": "code",
      "source": [
        "##뺄셈\n",
        "sub = tf.math.subtract(c1,c2)\n",
        "sub.numpy()"
      ],
      "metadata": {
        "colab": {
          "base_uri": "https://localhost:8080/"
        },
        "id": "eKCT4Clag9Tz",
        "outputId": "0deb9780-d20c-4e62-c51e-981817e89b7f"
      },
      "execution_count": null,
      "outputs": [
        {
          "output_type": "execute_result",
          "data": {
            "text/plain": [
              "-1"
            ]
          },
          "metadata": {},
          "execution_count": 9
        }
      ]
    },
    {
      "cell_type": "code",
      "source": [
        "#곱셈\n",
        "mul = tf.math.multiply(c1,c2)\n",
        "mul.numpy()"
      ],
      "metadata": {
        "colab": {
          "base_uri": "https://localhost:8080/"
        },
        "id": "D4iziithhX1v",
        "outputId": "0a946b07-8d2b-4ccc-9b1d-f50cfca9bca3"
      },
      "execution_count": null,
      "outputs": [
        {
          "output_type": "execute_result",
          "data": {
            "text/plain": [
              "2"
            ]
          },
          "metadata": {},
          "execution_count": 14
        }
      ]
    },
    {
      "cell_type": "code",
      "source": [
        "##나눗셈\n",
        "div = tf.math.divide(c1,c2)\n",
        "div.numpy()"
      ],
      "metadata": {
        "colab": {
          "base_uri": "https://localhost:8080/"
        },
        "id": "lqRK9wZJhjlL",
        "outputId": "df55bf09-6a7a-4bb2-bf89-fdfcac0871f8"
      },
      "execution_count": null,
      "outputs": [
        {
          "output_type": "execute_result",
          "data": {
            "text/plain": [
              "0.5"
            ]
          },
          "metadata": {},
          "execution_count": 19
        }
      ]
    },
    {
      "cell_type": "code",
      "source": [
        "##나머지\n",
        "m = tf.math.mod(c1,c2)\n",
        "m.numpy()"
      ],
      "metadata": {
        "colab": {
          "base_uri": "https://localhost:8080/"
        },
        "id": "WO114VV6iCHd",
        "outputId": "4defe419-7d4d-48bf-9fc0-22378609bb9e"
      },
      "execution_count": null,
      "outputs": [
        {
          "output_type": "execute_result",
          "data": {
            "text/plain": [
              "1"
            ]
          },
          "metadata": {},
          "execution_count": 23
        }
      ]
    },
    {
      "cell_type": "code",
      "source": [
        "##몫\n",
        "flo = tf.math.floordiv(c1,c2)\n",
        "flo.numpy()"
      ],
      "metadata": {
        "colab": {
          "base_uri": "https://localhost:8080/"
        },
        "id": "GNa1s5iMiYKR",
        "outputId": "0e72577d-6a8e-44fe-e794-1d09941af0a7"
      },
      "execution_count": null,
      "outputs": [
        {
          "output_type": "execute_result",
          "data": {
            "text/plain": [
              "0"
            ]
          },
          "metadata": {},
          "execution_count": 24
        }
      ]
    },
    {
      "cell_type": "markdown",
      "source": [
        "# vector\n",
        "1. 변수명 = [] : 리스트 생성\n",
        "2. 변수명  = tf.constant() : 텐서 변환"
      ],
      "metadata": {
        "id": "WvYu5ULailDY"
      }
    },
    {
      "cell_type": "code",
      "source": [
        "py_list = [10,20,30]\n",
        "ten_list = tf.constant(py_list)\n",
        "ten_list"
      ],
      "metadata": {
        "colab": {
          "base_uri": "https://localhost:8080/"
        },
        "id": "zrzOVbbyiv_L",
        "outputId": "f61dcc0e-0873-41f2-e400-1647a99dc80c"
      },
      "execution_count": null,
      "outputs": [
        {
          "output_type": "execute_result",
          "data": {
            "text/plain": [
              "<tf.Tensor: shape=(3,), dtype=int32, numpy=array([10, 20, 30], dtype=int32)>"
            ]
          },
          "metadata": {},
          "execution_count": 25
        }
      ]
    },
    {
      "cell_type": "code",
      "source": [
        "ten_list = tf.constant([10,20,30])\n",
        "ten_list"
      ],
      "metadata": {
        "colab": {
          "base_uri": "https://localhost:8080/"
        },
        "id": "z_WIKrvci4ny",
        "outputId": "33ff858a-7ca9-4ab0-8325-8265f33e7405"
      },
      "execution_count": null,
      "outputs": [
        {
          "output_type": "execute_result",
          "data": {
            "text/plain": [
              "<tf.Tensor: shape=(3,), dtype=int32, numpy=array([10, 20, 30], dtype=int32)>"
            ]
          },
          "metadata": {},
          "execution_count": 26
        }
      ]
    },
    {
      "cell_type": "code",
      "source": [
        "num_arr = np.array([10,10,10]) ## arrray : 행렬 -> 2차원 변수 선언에 따라 값이 달라짐\n",
        "ten_arr = tf.constant(num_arr,dtype=tf.int32 )\n",
        "ten_arr"
      ],
      "metadata": {
        "colab": {
          "base_uri": "https://localhost:8080/"
        },
        "id": "6Adpj0gnjBNw",
        "outputId": "809e4144-5818-4cf1-8c10-c0e05d2591f6"
      },
      "execution_count": null,
      "outputs": [
        {
          "output_type": "execute_result",
          "data": {
            "text/plain": [
              "<tf.Tensor: shape=(3,), dtype=int32, numpy=array([10, 10, 10], dtype=int32)>"
            ]
          },
          "metadata": {},
          "execution_count": 29
        }
      ]
    },
    {
      "cell_type": "code",
      "source": [
        "add1=tf.math.add(ten_list,ten_arr)"
      ],
      "metadata": {
        "id": "rkuFiOIsjV2F"
      },
      "execution_count": null,
      "outputs": []
    },
    {
      "cell_type": "code",
      "source": [
        "A = ten_list + ten_arr\n",
        "S = ten_list - ten_arr\n",
        "M = ten_list * ten_arr\n",
        "D = ten_list / ten_arr\n",
        "Mo = ten_list % ten_arr\n",
        "Fd = ten_list // ten_arr"
      ],
      "metadata": {
        "id": "C52O0N_ikENC"
      },
      "execution_count": null,
      "outputs": []
    },
    {
      "cell_type": "code",
      "source": [
        "A.numpy()"
      ],
      "metadata": {
        "colab": {
          "base_uri": "https://localhost:8080/"
        },
        "id": "kTwkBtUUkvq-",
        "outputId": "60824e8b-e645-404b-f0a3-f0f955864daf"
      },
      "execution_count": null,
      "outputs": [
        {
          "output_type": "execute_result",
          "data": {
            "text/plain": [
              "array([20, 30, 40], dtype=int32)"
            ]
          },
          "metadata": {},
          "execution_count": 34
        }
      ]
    },
    {
      "cell_type": "code",
      "source": [
        "S.numpy()"
      ],
      "metadata": {
        "colab": {
          "base_uri": "https://localhost:8080/"
        },
        "id": "kjXinVyVkzwC",
        "outputId": "4518fb46-8922-4180-c631-e1aebccc33ad"
      },
      "execution_count": null,
      "outputs": [
        {
          "output_type": "execute_result",
          "data": {
            "text/plain": [
              "array([ 0, 10, 20], dtype=int32)"
            ]
          },
          "metadata": {},
          "execution_count": 35
        }
      ]
    },
    {
      "cell_type": "code",
      "source": [
        "M.numpy()"
      ],
      "metadata": {
        "colab": {
          "base_uri": "https://localhost:8080/"
        },
        "id": "2CxF0_Vvk2zC",
        "outputId": "d88cd49b-2b21-486e-80b4-11ae4024f72f"
      },
      "execution_count": null,
      "outputs": [
        {
          "output_type": "execute_result",
          "data": {
            "text/plain": [
              "array([100, 200, 300], dtype=int32)"
            ]
          },
          "metadata": {},
          "execution_count": 36
        }
      ]
    },
    {
      "cell_type": "code",
      "source": [
        "D.numpy()"
      ],
      "metadata": {
        "colab": {
          "base_uri": "https://localhost:8080/"
        },
        "id": "IL9etZy5k47a",
        "outputId": "5e50a52c-b5b9-4ea2-e99a-8473dec852fa"
      },
      "execution_count": null,
      "outputs": [
        {
          "output_type": "execute_result",
          "data": {
            "text/plain": [
              "array([1., 2., 3.])"
            ]
          },
          "metadata": {},
          "execution_count": 37
        }
      ]
    },
    {
      "cell_type": "code",
      "source": [
        "Mo.numpy()"
      ],
      "metadata": {
        "colab": {
          "base_uri": "https://localhost:8080/"
        },
        "id": "VLRSIMz-k7cK",
        "outputId": "2612e6fe-694e-44c9-a7de-b3e7c03f7cb1"
      },
      "execution_count": null,
      "outputs": [
        {
          "output_type": "execute_result",
          "data": {
            "text/plain": [
              "array([0, 0, 0], dtype=int32)"
            ]
          },
          "metadata": {},
          "execution_count": 39
        }
      ]
    },
    {
      "cell_type": "code",
      "source": [
        "Fd.numpy()"
      ],
      "metadata": {
        "colab": {
          "base_uri": "https://localhost:8080/"
        },
        "id": "o-fub_7ck91K",
        "outputId": "24752a82-9431-48da-9599-8dddf6eade84"
      },
      "execution_count": null,
      "outputs": [
        {
          "output_type": "execute_result",
          "data": {
            "text/plain": [
              "array([1, 2, 3], dtype=int32)"
            ]
          },
          "metadata": {},
          "execution_count": 40
        }
      ]
    },
    {
      "cell_type": "markdown",
      "source": [
        "# 행렬 정의하기\n",
        "1.tf.stack([],[],.....[]) :  1차 배열 쌀기"
      ],
      "metadata": {
        "id": "u2GQ6EJmlBn_"
      }
    },
    {
      "cell_type": "code",
      "source": [
        "l_a = [1,0]\n",
        "l_b = [-1,2]\n",
        "l_c = [1,0]"
      ],
      "metadata": {
        "id": "FReMQJ7zlLZb"
      },
      "execution_count": null,
      "outputs": []
    },
    {
      "cell_type": "code",
      "source": [
        "l_a = tf.constant(l_a)\n",
        "l_a = tf.constant(l_b)\n",
        "l_c = tf.constant(l_c)\n",
        "A = tf.stack([l_a,l_b,l_c])\n",
        "A                                              ## shape(행, 열)"
      ],
      "metadata": {
        "colab": {
          "base_uri": "https://localhost:8080/"
        },
        "id": "ozQaUWpzlWcy",
        "outputId": "ebe12ba5-117c-485a-b9ec-7ea70ee1b76d"
      },
      "execution_count": null,
      "outputs": [
        {
          "output_type": "execute_result",
          "data": {
            "text/plain": [
              "<tf.Tensor: shape=(3, 2), dtype=int32, numpy=\n",
              "array([[-1,  2],\n",
              "       [-1,  2],\n",
              "       [ 1,  0]], dtype=int32)>"
            ]
          },
          "metadata": {},
          "execution_count": 46
        }
      ]
    },
    {
      "cell_type": "code",
      "source": [
        "l_B = [[10,20],[30,40]]\n",
        "l_C = [[10,20],[20,40]]\n",
        "l_D = [[30,10],[10,10]]"
      ],
      "metadata": {
        "id": "WCbxgWJQl_u9"
      },
      "execution_count": null,
      "outputs": []
    },
    {
      "cell_type": "code",
      "source": [
        "B = tf.constant(l_B)\n",
        "C = tf.constant(l_C)\n",
        "D = tf.constant(l_D)\n",
        "B,C,D"
      ],
      "metadata": {
        "colab": {
          "base_uri": "https://localhost:8080/"
        },
        "id": "rdfwlpoxmKd2",
        "outputId": "31c988d8-860f-4e15-dda5-cc7139f3ce3b"
      },
      "execution_count": null,
      "outputs": [
        {
          "output_type": "execute_result",
          "data": {
            "text/plain": [
              "(<tf.Tensor: shape=(2, 2), dtype=int32, numpy=\n",
              " array([[10, 20],\n",
              "        [30, 40]], dtype=int32)>,\n",
              " <tf.Tensor: shape=(2, 2), dtype=int32, numpy=\n",
              " array([[10, 20],\n",
              "        [20, 40]], dtype=int32)>,\n",
              " <tf.Tensor: shape=(2, 2), dtype=int32, numpy=\n",
              " array([[30, 10],\n",
              "        [10, 10]], dtype=int32)>)"
            ]
          },
          "metadata": {},
          "execution_count": 52
        }
      ]
    },
    {
      "cell_type": "code",
      "source": [
        "m_BCD = tf.stack([B,C,D])\n",
        "m_BCD                               ##shape(차원, 행, 열)"
      ],
      "metadata": {
        "colab": {
          "base_uri": "https://localhost:8080/"
        },
        "id": "boikGPqUmU4J",
        "outputId": "001bb88a-5581-46a0-aad1-ac1528d1b592"
      },
      "execution_count": null,
      "outputs": [
        {
          "output_type": "execute_result",
          "data": {
            "text/plain": [
              "<tf.Tensor: shape=(3, 2, 2), dtype=int32, numpy=\n",
              "array([[[10, 20],\n",
              "        [30, 40]],\n",
              "\n",
              "       [[10, 20],\n",
              "        [20, 40]],\n",
              "\n",
              "       [[30, 10],\n",
              "        [10, 10]]], dtype=int32)>"
            ]
          },
          "metadata": {},
          "execution_count": 54
        }
      ]
    },
    {
      "cell_type": "markdown",
      "source": [
        "# 고차원 텐서\n",
        "1. 1차원 배열 1Xm,n개 정의 2차원 배열 n X m 정의\n",
        "2. "
      ],
      "metadata": {
        "id": "WI1tOcJaqpuK"
      }
    },
    {
      "cell_type": "code",
      "source": [
        "## 1차원 배열로 3X2X4 정의하기\n",
        "l_c1 = [[1,2,3,4],[3,4,2,5]]\n",
        "l_c2 = [[2,3,4,5],[6,5,7,3]]\n",
        "l_c3 = [[1,1,1,1],[8,1,0,6]]\n"
      ],
      "metadata": {
        "id": "y_hAe_ZXq4cL"
      },
      "execution_count": null,
      "outputs": []
    },
    {
      "cell_type": "code",
      "source": [
        "c1 = tf.constant(l_c1)\n",
        "c2 = tf.constant(l_c2)\n",
        "c3 = tf.constant(l_c3)\n",
        "c1,c2,c3"
      ],
      "metadata": {
        "colab": {
          "base_uri": "https://localhost:8080/"
        },
        "id": "YIItxMOyrY39",
        "outputId": "24419b70-07e2-4ef3-8a09-6f45795774c8"
      },
      "execution_count": null,
      "outputs": [
        {
          "output_type": "execute_result",
          "data": {
            "text/plain": [
              "(<tf.Tensor: shape=(2, 4), dtype=int32, numpy=\n",
              " array([[1, 2, 3, 4],\n",
              "        [3, 4, 2, 5]], dtype=int32)>,\n",
              " <tf.Tensor: shape=(2, 4), dtype=int32, numpy=\n",
              " array([[2, 3, 4, 5],\n",
              "        [6, 5, 7, 3]], dtype=int32)>,\n",
              " <tf.Tensor: shape=(2, 4), dtype=int32, numpy=\n",
              " array([[1, 1, 1, 1],\n",
              "        [8, 1, 0, 6]], dtype=int32)>)"
            ]
          },
          "metadata": {},
          "execution_count": 58
        }
      ]
    },
    {
      "cell_type": "code",
      "source": [
        "m_c1c2c3 = tf.stack([c1,c2,c3])\n",
        "m_c1c2c3"
      ],
      "metadata": {
        "colab": {
          "base_uri": "https://localhost:8080/"
        },
        "id": "rPq4bznrrt4l",
        "outputId": "67f2ce6b-4a42-45fe-e7ac-492795cbaaf4"
      },
      "execution_count": null,
      "outputs": [
        {
          "output_type": "execute_result",
          "data": {
            "text/plain": [
              "<tf.Tensor: shape=(3, 2, 4), dtype=int32, numpy=\n",
              "array([[[1, 2, 3, 4],\n",
              "        [3, 4, 2, 5]],\n",
              "\n",
              "       [[2, 3, 4, 5],\n",
              "        [6, 5, 7, 3]],\n",
              "\n",
              "       [[1, 1, 1, 1],\n",
              "        [8, 1, 0, 6]]], dtype=int32)>"
            ]
          },
          "metadata": {},
          "execution_count": 59
        }
      ]
    },
    {
      "cell_type": "code",
      "source": [
        "l_c1 = [[1,2,3,4],[3,4,2,5],[2,3,4,5]]\n",
        "l_c2 = [[6,5,7,3],[1,1,1,1],[8,1,0,6]]\n"
      ],
      "metadata": {
        "id": "NuUeC1o8sSDA"
      },
      "execution_count": null,
      "outputs": []
    },
    {
      "cell_type": "code",
      "source": [
        "c1 = tf.constant(l_c1)\n",
        "c2 = tf.constant(l_c2)\n",
        "c1,c2"
      ],
      "metadata": {
        "colab": {
          "base_uri": "https://localhost:8080/"
        },
        "id": "y4H9-F9Xss-N",
        "outputId": "92bc579b-284f-495b-abd7-8901974f7556"
      },
      "execution_count": null,
      "outputs": [
        {
          "output_type": "execute_result",
          "data": {
            "text/plain": [
              "(<tf.Tensor: shape=(3, 4), dtype=int32, numpy=\n",
              " array([[1, 2, 3, 4],\n",
              "        [3, 4, 2, 5],\n",
              "        [2, 3, 4, 5]], dtype=int32)>,\n",
              " <tf.Tensor: shape=(3, 4), dtype=int32, numpy=\n",
              " array([[6, 5, 7, 3],\n",
              "        [1, 1, 1, 1],\n",
              "        [8, 1, 0, 6]], dtype=int32)>)"
            ]
          },
          "metadata": {},
          "execution_count": 61
        }
      ]
    },
    {
      "cell_type": "code",
      "source": [
        "m_c1c2 = tf.stack([c1,c2])\n",
        "m_c1c2"
      ],
      "metadata": {
        "colab": {
          "base_uri": "https://localhost:8080/"
        },
        "id": "mvqlrQ8gs3d_",
        "outputId": "00fc1d48-eacd-4c54-90bd-cd26c4813e42"
      },
      "execution_count": null,
      "outputs": [
        {
          "output_type": "execute_result",
          "data": {
            "text/plain": [
              "<tf.Tensor: shape=(2, 3, 4), dtype=int32, numpy=\n",
              "array([[[1, 2, 3, 4],\n",
              "        [3, 4, 2, 5],\n",
              "        [2, 3, 4, 5]],\n",
              "\n",
              "       [[6, 5, 7, 3],\n",
              "        [1, 1, 1, 1],\n",
              "        [8, 1, 0, 6]]], dtype=int32)>"
            ]
          },
          "metadata": {},
          "execution_count": 62
        }
      ]
    },
    {
      "cell_type": "markdown",
      "source": [
        "# 인덱싱"
      ],
      "metadata": {
        "id": "jcaNravRtdxx"
      }
    },
    {
      "cell_type": "code",
      "source": [
        "x = range(1,10)\n",
        "x= list(x)\n",
        "x1 = tf.constant(x)"
      ],
      "metadata": {
        "id": "VdlALOUgtiA1"
      },
      "execution_count": null,
      "outputs": []
    },
    {
      "cell_type": "code",
      "source": [
        "x1"
      ],
      "metadata": {
        "colab": {
          "base_uri": "https://localhost:8080/"
        },
        "id": "vfBptLTWtwxf",
        "outputId": "acd8be51-5b6c-4cd1-fe71-90cd534519cc"
      },
      "execution_count": null,
      "outputs": [
        {
          "output_type": "execute_result",
          "data": {
            "text/plain": [
              "<tf.Tensor: shape=(9,), dtype=int32, numpy=array([1, 2, 3, 4, 5, 6, 7, 8, 9], dtype=int32)>"
            ]
          },
          "metadata": {},
          "execution_count": 65
        }
      ]
    },
    {
      "cell_type": "code",
      "source": [
        "x1[2:4]"
      ],
      "metadata": {
        "colab": {
          "base_uri": "https://localhost:8080/"
        },
        "id": "hK9a6B-VtqVr",
        "outputId": "714f167c-13b9-4940-fc14-09ba052a7a16"
      },
      "execution_count": null,
      "outputs": [
        {
          "output_type": "execute_result",
          "data": {
            "text/plain": [
              "<tf.Tensor: shape=(2,), dtype=int32, numpy=array([3, 4], dtype=int32)>"
            ]
          },
          "metadata": {},
          "execution_count": 66
        }
      ]
    },
    {
      "cell_type": "code",
      "source": [
        "x2 = tf.reshape(x1,[3,3])  ## [3,3] = [3,-1]\n",
        "x2            "
      ],
      "metadata": {
        "colab": {
          "base_uri": "https://localhost:8080/"
        },
        "id": "lpztvBLytz3L",
        "outputId": "4eac4218-f993-40dc-ae57-fbbc0b6097d2"
      },
      "execution_count": null,
      "outputs": [
        {
          "output_type": "execute_result",
          "data": {
            "text/plain": [
              "<tf.Tensor: shape=(3, 3), dtype=int32, numpy=\n",
              "array([[1, 2, 3],\n",
              "       [4, 5, 6],\n",
              "       [7, 8, 9]], dtype=int32)>"
            ]
          },
          "metadata": {},
          "execution_count": 67
        }
      ]
    },
    {
      "cell_type": "code",
      "source": [
        "#1행 출력\n",
        "x2[:1]"
      ],
      "metadata": {
        "colab": {
          "base_uri": "https://localhost:8080/"
        },
        "id": "VABj1h0guBN0",
        "outputId": "1cacfa06-ea44-4bba-e7f1-fc9998b38ff9"
      },
      "execution_count": null,
      "outputs": [
        {
          "output_type": "execute_result",
          "data": {
            "text/plain": [
              "<tf.Tensor: shape=(1, 3), dtype=int32, numpy=array([[1, 2, 3]], dtype=int32)>"
            ]
          },
          "metadata": {},
          "execution_count": 68
        }
      ]
    },
    {
      "cell_type": "code",
      "source": [
        "#2행 출력\n",
        "x2[:2]"
      ],
      "metadata": {
        "colab": {
          "base_uri": "https://localhost:8080/"
        },
        "id": "Mf-3BJnHuTGD",
        "outputId": "1418d607-0b86-4962-9bd2-4da11820ea3b"
      },
      "execution_count": null,
      "outputs": [
        {
          "output_type": "execute_result",
          "data": {
            "text/plain": [
              "<tf.Tensor: shape=(2, 3), dtype=int32, numpy=\n",
              "array([[1, 2, 3],\n",
              "       [4, 5, 6]], dtype=int32)>"
            ]
          },
          "metadata": {},
          "execution_count": 69
        }
      ]
    },
    {
      "cell_type": "code",
      "source": [
        "#1열 출력\n",
        "x2[:,2:3] ## = [:, -1:]"
      ],
      "metadata": {
        "colab": {
          "base_uri": "https://localhost:8080/"
        },
        "id": "yYh43BRQuX96",
        "outputId": "755bd090-e44e-4186-a6cd-8e4025ee9a0b"
      },
      "execution_count": null,
      "outputs": [
        {
          "output_type": "execute_result",
          "data": {
            "text/plain": [
              "<tf.Tensor: shape=(3, 1), dtype=int32, numpy=\n",
              "array([[3],\n",
              "       [6],\n",
              "       [9]], dtype=int32)>"
            ]
          },
          "metadata": {},
          "execution_count": 83
        }
      ]
    },
    {
      "cell_type": "code",
      "source": [
        "t7 = tf.constant(range(0,24))\n",
        "t7"
      ],
      "metadata": {
        "colab": {
          "base_uri": "https://localhost:8080/"
        },
        "id": "e7_-BmmGu_RO",
        "outputId": "b6390fcd-cce7-4906-d529-9a7ac9128c2c"
      },
      "execution_count": null,
      "outputs": [
        {
          "output_type": "execute_result",
          "data": {
            "text/plain": [
              "<tf.Tensor: shape=(24,), dtype=int32, numpy=\n",
              "array([ 0,  1,  2,  3,  4,  5,  6,  7,  8,  9, 10, 11, 12, 13, 14, 15, 16,\n",
              "       17, 18, 19, 20, 21, 22, 23], dtype=int32)>"
            ]
          },
          "metadata": {},
          "execution_count": 85
        }
      ]
    },
    {
      "cell_type": "code",
      "source": [
        "r_t7 = tf.reshape(t7, [3,8])\n",
        "r_t7"
      ],
      "metadata": {
        "colab": {
          "base_uri": "https://localhost:8080/"
        },
        "id": "s7OvFlj2wMna",
        "outputId": "cfc70df0-923a-4835-d850-dccbc601cc07"
      },
      "execution_count": null,
      "outputs": [
        {
          "output_type": "execute_result",
          "data": {
            "text/plain": [
              "<tf.Tensor: shape=(3, 8), dtype=int32, numpy=\n",
              "array([[ 0,  1,  2,  3,  4,  5,  6,  7],\n",
              "       [ 8,  9, 10, 11, 12, 13, 14, 15],\n",
              "       [16, 17, 18, 19, 20, 21, 22, 23]], dtype=int32)>"
            ]
          },
          "metadata": {},
          "execution_count": 86
        }
      ]
    },
    {
      "cell_type": "code",
      "source": [
        "r2_t7 = tf.reshape(t7, [-1,4])\n",
        "r2_t7"
      ],
      "metadata": {
        "colab": {
          "base_uri": "https://localhost:8080/"
        },
        "id": "gT9oaQbEwU2p",
        "outputId": "3c998150-fe93-4ab3-efba-14e682c11b51"
      },
      "execution_count": null,
      "outputs": [
        {
          "output_type": "execute_result",
          "data": {
            "text/plain": [
              "<tf.Tensor: shape=(6, 4), dtype=int32, numpy=\n",
              "array([[ 0,  1,  2,  3],\n",
              "       [ 4,  5,  6,  7],\n",
              "       [ 8,  9, 10, 11],\n",
              "       [12, 13, 14, 15],\n",
              "       [16, 17, 18, 19],\n",
              "       [20, 21, 22, 23]], dtype=int32)>"
            ]
          },
          "metadata": {},
          "execution_count": 87
        }
      ]
    },
    {
      "cell_type": "code",
      "source": [
        "r3_t7 = tf.reshape(r2_t7, [ -1])\n",
        "r3_t7"
      ],
      "metadata": {
        "colab": {
          "base_uri": "https://localhost:8080/"
        },
        "id": "7Lv4s23YwgrS",
        "outputId": "15bd5a9a-e3a6-4607-ded7-dd911b9f36ed"
      },
      "execution_count": null,
      "outputs": [
        {
          "output_type": "execute_result",
          "data": {
            "text/plain": [
              "<tf.Tensor: shape=(24,), dtype=int32, numpy=\n",
              "array([ 0,  1,  2,  3,  4,  5,  6,  7,  8,  9, 10, 11, 12, 13, 14, 15, 16,\n",
              "       17, 18, 19, 20, 21, 22, 23], dtype=int32)>"
            ]
          },
          "metadata": {},
          "execution_count": 88
        }
      ]
    },
    {
      "cell_type": "code",
      "source": [
        "r4_t7 = tf.reshape(r2_t7, [-1,3,4])\n",
        "r4_t7"
      ],
      "metadata": {
        "colab": {
          "base_uri": "https://localhost:8080/"
        },
        "id": "KBNmBSiWwupM",
        "outputId": "de41de3f-9a44-41df-f029-0921abb4c2d9"
      },
      "execution_count": null,
      "outputs": [
        {
          "output_type": "execute_result",
          "data": {
            "text/plain": [
              "<tf.Tensor: shape=(2, 3, 4), dtype=int32, numpy=\n",
              "array([[[ 0,  1,  2,  3],\n",
              "        [ 4,  5,  6,  7],\n",
              "        [ 8,  9, 10, 11]],\n",
              "\n",
              "       [[12, 13, 14, 15],\n",
              "        [16, 17, 18, 19],\n",
              "        [20, 21, 22, 23]]], dtype=int32)>"
            ]
          },
          "metadata": {},
          "execution_count": 89
        }
      ]
    },
    {
      "cell_type": "code",
      "source": [
        "r5_t7 = tf.reshape(r2_t7, [-1,2,4])\n",
        "r5_t7"
      ],
      "metadata": {
        "colab": {
          "base_uri": "https://localhost:8080/"
        },
        "id": "85Hyv2txw89r",
        "outputId": "948ad864-86e6-42e5-a1c3-0fc84d99b60f"
      },
      "execution_count": null,
      "outputs": [
        {
          "output_type": "execute_result",
          "data": {
            "text/plain": [
              "<tf.Tensor: shape=(3, 2, 4), dtype=int32, numpy=\n",
              "array([[[ 0,  1,  2,  3],\n",
              "        [ 4,  5,  6,  7]],\n",
              "\n",
              "       [[ 8,  9, 10, 11],\n",
              "        [12, 13, 14, 15]],\n",
              "\n",
              "       [[16, 17, 18, 19],\n",
              "        [20, 21, 22, 23]]], dtype=int32)>"
            ]
          },
          "metadata": {},
          "execution_count": 90
        }
      ]
    },
    {
      "cell_type": "code",
      "source": [
        "r6_t7 = tf.reshape(r2_t7, [-1,2,2,2]) ## -1 값은  차원을 알아서 맞춰주는 수\n",
        "r6_t7"
      ],
      "metadata": {
        "colab": {
          "base_uri": "https://localhost:8080/"
        },
        "id": "kUa47KWVxQLa",
        "outputId": "c507461f-151a-4989-9e9d-2b940c86bd59"
      },
      "execution_count": null,
      "outputs": [
        {
          "output_type": "execute_result",
          "data": {
            "text/plain": [
              "<tf.Tensor: shape=(3, 2, 2, 2), dtype=int32, numpy=\n",
              "array([[[[ 0,  1],\n",
              "         [ 2,  3]],\n",
              "\n",
              "        [[ 4,  5],\n",
              "         [ 6,  7]]],\n",
              "\n",
              "\n",
              "       [[[ 8,  9],\n",
              "         [10, 11]],\n",
              "\n",
              "        [[12, 13],\n",
              "         [14, 15]]],\n",
              "\n",
              "\n",
              "       [[[16, 17],\n",
              "         [18, 19]],\n",
              "\n",
              "        [[20, 21],\n",
              "         [22, 23]]]], dtype=int32)>"
            ]
          },
          "metadata": {},
          "execution_count": 91
        }
      ]
    },
    {
      "cell_type": "markdown",
      "source": [
        "# 자동미분"
      ],
      "metadata": {
        "id": "ZE170pFIxkb3"
      }
    },
    {
      "cell_type": "code",
      "source": [
        "## y = x^2의 미분형 구하기\n",
        "x = tf.Variable(2.0)\n",
        "\n",
        "with tf.GradientTape() as tape:\n",
        "    y = x**2\n",
        "dy_dx = tape.gradient(y,x) ## y,x = dy/dx \n",
        "dy_dx.numpy() "
      ],
      "metadata": {
        "colab": {
          "base_uri": "https://localhost:8080/"
        },
        "id": "s38u-xdkxnro",
        "outputId": "7169bbbb-c61b-4fb8-e021-b497615f5ec3"
      },
      "execution_count": null,
      "outputs": [
        {
          "output_type": "execute_result",
          "data": {
            "text/plain": [
              "4.0"
            ]
          },
          "metadata": {},
          "execution_count": 3
        }
      ]
    },
    {
      "cell_type": "markdown",
      "source": [
        "# 데이터 셋 생성"
      ],
      "metadata": {
        "id": "XNNaH4si1LHu"
      }
    },
    {
      "cell_type": "code",
      "source": [
        " g = tf.random.Generator.from_seed(2020)\n",
        " x= g.normal(shape=(10,))\n",
        " y = 3*x - 2"
      ],
      "metadata": {
        "id": "aqEvsnCw1NgK"
      },
      "execution_count": null,
      "outputs": []
    },
    {
      "cell_type": "code",
      "source": [
        "x.numpy()"
      ],
      "metadata": {
        "colab": {
          "base_uri": "https://localhost:8080/"
        },
        "id": "46kXSsD91fSJ",
        "outputId": "3947c049-cb5f-4e94-af9b-8f8a545464ab"
      },
      "execution_count": null,
      "outputs": [
        {
          "output_type": "execute_result",
          "data": {
            "text/plain": [
              "array([-0.20943771,  1.2746525 ,  1.213214  , -0.17576954,  1.876984  ,\n",
              "        0.16379917,  1.082245  ,  0.6199966 , -0.4440221 ,  1.3048344 ],\n",
              "      dtype=float32)"
            ]
          },
          "metadata": {},
          "execution_count": 5
        }
      ]
    },
    {
      "cell_type": "code",
      "source": [
        "y.numpy()"
      ],
      "metadata": {
        "colab": {
          "base_uri": "https://localhost:8080/"
        },
        "id": "JjHNb2LQ1oQS",
        "outputId": "13575516-016b-4fd1-8d6f-8a1a719701bc"
      },
      "execution_count": null,
      "outputs": [
        {
          "output_type": "execute_result",
          "data": {
            "text/plain": [
              "array([-2.628313  ,  1.8239574 ,  1.6396422 , -2.5273085 ,  3.630952  ,\n",
              "       -1.5086025 ,  1.2467351 , -0.14001012, -3.3320663 ,  1.9145031 ],\n",
              "      dtype=float32)"
            ]
          },
          "metadata": {},
          "execution_count": 100
        }
      ]
    },
    {
      "cell_type": "code",
      "source": [
        "##reduced_mean()\n",
        "m2 = tf.constant([[1.,1.]])"
      ],
      "metadata": {
        "id": "mqoptnUl1s0a"
      },
      "execution_count": null,
      "outputs": []
    },
    {
      "cell_type": "code",
      "source": [
        "##loss 함수 정의하기\n",
        "def cal_mse(x,y,a,b):\n",
        "    y_pred = a*x + b\n",
        "    squared_error = (y_pred - y) **2\n",
        "    mean_squared_error = tf.reduce_mean(squared_error)\n",
        "\n",
        "    return mean_squared_error"
      ],
      "metadata": {
        "id": "B16UQrMQoygA"
      },
      "execution_count": null,
      "outputs": []
    },
    {
      "cell_type": "code",
      "source": [
        "a = tf.Variable(0.0)\n",
        "b = tf.Variable(0.0)\n",
        "\n",
        "EPOCHS = 300\n",
        "\n",
        "for epoch in range(1, EPOCHS+1):\n",
        "    with tf.GradientTape() as tape:\n",
        "        mse = cal_mse(x,y,a,b)\n",
        "    if mse < 0.00001: ## 오차한계\n",
        "        break\n",
        "    grade = tape.gradient(mse, {'a':a, 'b':b})\n",
        "    d_a, d_b = grade['a'], grade['b']\n",
        "    a.assign_sub(d_a * 0.05) ## a = a - d_a * 0.05(학습률)\n",
        "    b.assign_sub(d_b * 0.05) ## b = b - d_b * 0.05(학습률)\n",
        "\n",
        "    if epoch % 20 ==0:\n",
        "        print(\"EPOCH %d - MSE : %.4f - a: %.2f -b : %.2f\"%(epoch, mse, a, b))"
      ],
      "metadata": {
        "colab": {
          "base_uri": "https://localhost:8080/"
        },
        "id": "OC7pvySWqKX8",
        "outputId": "c81d6275-1762-470b-f168-a8d83e289e0c"
      },
      "execution_count": null,
      "outputs": [
        {
          "output_type": "stream",
          "name": "stdout",
          "text": [
            "EPOCH 20 - MSE : 1.1415 - a: 1.74 -b : -0.75\n",
            "EPOCH 40 - MSE : 0.2881 - a: 2.37 -b : -1.37\n",
            "EPOCH 60 - MSE : 0.0728 - a: 2.69 -b : -1.68\n",
            "EPOCH 80 - MSE : 0.0184 - a: 2.84 -b : -1.84\n",
            "EPOCH 100 - MSE : 0.0046 - a: 2.92 -b : -1.92\n",
            "EPOCH 120 - MSE : 0.0012 - a: 2.96 -b : -1.96\n",
            "EPOCH 140 - MSE : 0.0003 - a: 2.98 -b : -1.98\n",
            "EPOCH 160 - MSE : 0.0001 - a: 2.99 -b : -1.99\n",
            "EPOCH 180 - MSE : 0.0000 - a: 2.99 -b : -1.99\n"
          ]
        }
      ]
    },
    {
      "cell_type": "code",
      "source": [
        "y_pred = 3 * x -2\n",
        "plt.scatter(x,y)\n",
        "plt.plot(x,y_pred, color = 'r')\n",
        "plt.show()"
      ],
      "metadata": {
        "colab": {
          "base_uri": "https://localhost:8080/",
          "height": 430
        },
        "id": "lKvR6L1Qs4cE",
        "outputId": "913e7354-1778-43f3-defb-24cdc94aa3b0"
      },
      "execution_count": null,
      "outputs": [
        {
          "output_type": "display_data",
          "data": {
            "text/plain": [
              "<Figure size 640x480 with 1 Axes>"
            ],
            "image/png": "[encoded data removed]"
          },
          "metadata": {}
        }
      ]
    },
    {
      "cell_type": "code",
      "source": [
        "##데이터셋 생성(노이즈 첨가) \n",
        "g = tf.random.Generator.from_seed(2020)\n",
        "x1 = g.normal(shape=(10,))\n",
        "noise = np.random.normal(-abs(noise),abs(noise),size = (10,))\n",
        "y = 3 * x - 2 + noise"
      ],
      "metadata": {
        "id": "Kq2Vu67ntXMj"
      },
      "execution_count": null,
      "outputs": []
    },
    {
      "cell_type": "code",
      "source": [
        "a = tf.Variable(0.0)\n",
        "b = tf.Variable(0.0)\n",
        "\n",
        "HS = 1000\n",
        "\n",
        "for epoch in range(1, EPOCHS+1):\n",
        "    with tf.GradientTape() as tape:\n",
        "        mse = cal_mse(x1,y,a,b)\n",
        "    if mse < 0.000001: ## 오차한계\n",
        "        break\n",
        "    grade = tape.gradient(mse, {'a':a, 'b':b})\n",
        "    d_a, d_b = grade['a'], grade['b']\n",
        "    a.assign_sub(d_a * 0.05) ## a = a - d_a * 0.05(학습률)\n",
        "    b.assign_sub(d_b * 0.05) ## b = b - d_b * 0.05(학습률)\n",
        "\n",
        "    if epoch % 20 ==0:\n",
        "        print(\"EPOCH %d - MSE : %.4f - a: %.2f -b : %.2f\"%(epoch, mse, a, b))"
      ],
      "metadata": {
        "colab": {
          "base_uri": "https://localhost:8080/"
        },
        "id": "WqT6RaPYuaZt",
        "outputId": "36b7e41b-9876-4e67-823d-c9d38ce6775d"
      },
      "execution_count": null,
      "outputs": [
        {
          "output_type": "stream",
          "name": "stdout",
          "text": [
            "EPOCH 20 - MSE : 2.2634 - a: 1.46 -b : -1.51\n",
            "EPOCH 40 - MSE : 1.0413 - a: 2.20 -b : -2.27\n",
            "EPOCH 60 - MSE : 0.7326 - a: 2.57 -b : -2.65\n",
            "EPOCH 80 - MSE : 0.6546 - a: 2.76 -b : -2.84\n",
            "EPOCH 100 - MSE : 0.6349 - a: 2.86 -b : -2.93\n",
            "EPOCH 120 - MSE : 0.6299 - a: 2.90 -b : -2.98\n",
            "EPOCH 140 - MSE : 0.6287 - a: 2.93 -b : -3.00\n",
            "EPOCH 160 - MSE : 0.6284 - a: 2.94 -b : -3.02\n",
            "EPOCH 180 - MSE : 0.6283 - a: 2.94 -b : -3.02\n",
            "EPOCH 200 - MSE : 0.6283 - a: 2.95 -b : -3.02\n",
            "EPOCH 220 - MSE : 0.6283 - a: 2.95 -b : -3.03\n",
            "EPOCH 240 - MSE : 0.6283 - a: 2.95 -b : -3.03\n",
            "EPOCH 260 - MSE : 0.6283 - a: 2.95 -b : -3.03\n",
            "EPOCH 280 - MSE : 0.6283 - a: 2.95 -b : -3.03\n",
            "EPOCH 300 - MSE : 0.6283 - a: 2.95 -b : -3.03\n"
          ]
        }
      ]
    },
    {
      "cell_type": "code",
      "source": [
        "y_pred = 2.95* x1 -3.03\n",
        "plt.scatter(x1,y)\n",
        "plt.plot(x,y_pred, color = 'r')\n",
        "plt.show()"
      ],
      "metadata": {
        "colab": {
          "base_uri": "https://localhost:8080/",
          "height": 430
        },
        "id": "-Io0Hnwsu7GL",
        "outputId": "bd6e836b-3b4f-4124-afc3-495ec019bd5e"
      },
      "execution_count": null,
      "outputs": [
        {
          "output_type": "display_data",
          "data": {
            "text/plain": [
              "<Figure size 640x480 with 1 Axes>"
            ],
            "image/png": "[encoded data removed]"
          },
          "metadata": {}
        }
      ]
    }
  ]
}
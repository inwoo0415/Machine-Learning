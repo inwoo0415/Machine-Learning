{
  "nbformat": 4,
  "nbformat_minor": 0,
  "metadata": {
    "colab": {
      "provenance": [],
      "authorship_tag": "ABX9TyNdHlhMbcQCLJU6gIhFMUYX",
      "include_colab_link": true
    },
    "kernelspec": {
      "name": "python3",
      "display_name": "Python 3"
    },
    "language_info": {
      "name": "python"
    },
    "accelerator": "GPU",
    "gpuClass": "standard"
  },
  "cells": [
    {
      "cell_type": "markdown",
      "metadata": {
        "id": "view-in-github",
        "colab_type": "text"
      },
      "source": [
        "<a href=\"https://colab.research.google.com/github/inwoo0415/Machine-Learning/blob/main/%EA%B8%B0%EA%B3%84%ED%95%99%EC%8A%B5_%ED%8C%8C%EC%9D%B4%EC%8D%AC_3%EC%A3%BC%EC%B0%A8.ipynb\" target=\"_parent\"><img src=\"https://colab.research.google.com/assets/colab-badge.svg\" alt=\"Open In Colab\"/></a>"
      ]
    },
    {
      "cell_type": "code",
      "execution_count": null,
      "metadata": {
        "colab": {
          "base_uri": "https://localhost:8080/"
        },
        "id": "4TWYh1RKYE_i",
        "outputId": "b5f6dff3-8285-4d31-82c3-887c0de236f8"
      },
      "outputs": [
        {
          "output_type": "stream",
          "name": "stdout",
          "text": [
            "0\n",
            "1\n",
            "2\n",
            "3\n",
            "4\n",
            "5\n",
            "6\n",
            "7\n",
            "8\n",
            "9\n"
          ]
        }
      ],
      "source": [
        "for i in range(10):\n",
        "        print(i)"
      ]
    },
    {
      "cell_type": "code",
      "source": [
        "a = [1,2,3,4,5,6,7,8,9]\n",
        "for  i in a:\n",
        "     print(i)\n",
        "if(i%2 != 0):\n",
        "    print(i)"
      ],
      "metadata": {
        "colab": {
          "base_uri": "https://localhost:8080/"
        },
        "id": "lcC2nUh_YouL",
        "outputId": "2d893825-3e9a-4ec7-82bb-de838ee92ab7"
      },
      "execution_count": null,
      "outputs": [
        {
          "output_type": "stream",
          "name": "stdout",
          "text": [
            "1\n",
            "2\n",
            "3\n",
            "4\n",
            "5\n",
            "6\n",
            "7\n",
            "8\n",
            "9\n",
            "9\n"
          ]
        }
      ]
    },
    {
      "cell_type": "code",
      "source": [
        "##집합명.append() : 더하기 , 집합명.remove() : 제외하기\n",
        "\n",
        "a = []\n",
        "for i in range(1,4):\n",
        "    a.append(i)\n",
        "print(a)    "
      ],
      "metadata": {
        "colab": {
          "base_uri": "https://localhost:8080/"
        },
        "id": "jaoI1GiKaL5Y",
        "outputId": "34ae1876-b3aa-43fb-ad90-1863972a095b"
      },
      "execution_count": null,
      "outputs": [
        {
          "output_type": "stream",
          "name": "stdout",
          "text": [
            "[1, 2, 3]\n"
          ]
        }
      ]
    },
    {
      "cell_type": "code",
      "source": [
        "b=[]\n",
        "for i in range(4,7):\n",
        "    b.append(i)\n",
        "print(b)  "
      ],
      "metadata": {
        "colab": {
          "base_uri": "https://localhost:8080/"
        },
        "id": "-Z4ltyx1atAK",
        "outputId": "d85af2e7-2f31-4a8d-aae5-27fc3bb17e79"
      },
      "execution_count": null,
      "outputs": [
        {
          "output_type": "stream",
          "name": "stdout",
          "text": [
            "[4, 5, 6]\n"
          ]
        }
      ]
    },
    {
      "cell_type": "code",
      "source": [
        "c=[]\n",
        "for i in range(3,6):\n",
        "    c.append(i)\n",
        "print(c)"
      ],
      "metadata": {
        "colab": {
          "base_uri": "https://localhost:8080/"
        },
        "id": "xievxLPba9KT",
        "outputId": "b61b6943-5b1d-45d5-ebab-5c6f85c8873d"
      },
      "execution_count": null,
      "outputs": [
        {
          "output_type": "stream",
          "name": "stdout",
          "text": [
            "[3, 4, 5]\n"
          ]
        }
      ]
    },
    {
      "cell_type": "code",
      "source": [
        "##합집합\n",
        "U1 = a + b\n",
        "U1"
      ],
      "metadata": {
        "id": "3kr-_GDBbGyC"
      },
      "execution_count": null,
      "outputs": []
    },
    {
      "cell_type": "code",
      "source": [
        "U2 = a + c\n",
        "U2"
      ],
      "metadata": {
        "id": "hqMU8JQ4bj4S"
      },
      "execution_count": null,
      "outputs": []
    },
    {
      "cell_type": "code",
      "source": [
        "a = [1,2,3]\n",
        "b = [4,5,6]\n",
        "c = [3,4,5]\n",
        "for i in a:\n",
        "    if i in c:\n",
        "        print(i)\n",
        "        "
      ],
      "metadata": {
        "colab": {
          "base_uri": "https://localhost:8080/"
        },
        "id": "MASxjwJObtei",
        "outputId": "8a34f522-75f4-46fa-85f4-f6201389c37b"
      },
      "execution_count": null,
      "outputs": [
        {
          "output_type": "stream",
          "name": "stdout",
          "text": [
            "3\n"
          ]
        }
      ]
    },
    {
      "cell_type": "code",
      "source": [
        "I=[]\n",
        "for i in a:\n",
        "    if i in c:\n",
        "        I.append(i)"
      ],
      "metadata": {
        "id": "O7ca4_egdxwL"
      },
      "execution_count": null,
      "outputs": []
    },
    {
      "cell_type": "code",
      "source": [
        "a = [1,2,3]\n",
        "b = [4,5,6]\n",
        "c = [3,4,5]\n",
        "for i in a:\n",
        "    if i not in c:\n",
        "        c.append(i)\n",
        "        c\n",
        "                   \n",
        "        "
      ],
      "metadata": {
        "id": "X2KFAtpcehFu"
      },
      "execution_count": null,
      "outputs": []
    },
    {
      "cell_type": "code",
      "source": [
        "a = [1,2,3]\n",
        "b = [4,5,6]\n",
        "c = [3,4,5]\n",
        "\n",
        "for i in c:\n",
        "    if i in a:\n",
        "        a.remove(i)\n",
        "        print(a)       "
      ],
      "metadata": {
        "colab": {
          "base_uri": "https://localhost:8080/"
        },
        "id": "Uo2eQogvfxhP",
        "outputId": "51652f84-ed54-47ec-8d58-e06bb63ac6a1"
      },
      "execution_count": null,
      "outputs": [
        {
          "output_type": "stream",
          "name": "stdout",
          "text": [
            "[1, 2]\n"
          ]
        }
      ]
    },
    {
      "cell_type": "code",
      "source": [
        "a = [1,2,3]\n",
        "b = [4,5,6]\n",
        "c = [3,4,5]\n",
        "\n",
        "for i in c:\n",
        "    if i in b:\n",
        "        b.remove(i)\n",
        "        print(b)"
      ],
      "metadata": {
        "colab": {
          "base_uri": "https://localhost:8080/"
        },
        "id": "o_3HEHVwhRdo",
        "outputId": "7b119954-0772-49ad-e374-b8c97767d067"
      },
      "execution_count": null,
      "outputs": [
        {
          "output_type": "stream",
          "name": "stdout",
          "text": [
            "[5, 6]\n",
            "[6]\n"
          ]
        }
      ]
    },
    {
      "cell_type": "code",
      "source": [
        "a = [1,2,3]\n",
        "b = [4,5,6]\n",
        "c = [3,4,5]\n",
        "\n",
        "for i in b:\n",
        "    if i in c:\n",
        "        c.remove(i)\n",
        "        print(c)"
      ],
      "metadata": {
        "colab": {
          "base_uri": "https://localhost:8080/"
        },
        "id": "EuZEkOc6iI2Q",
        "outputId": "54101602-d16b-4b90-aac3-34dd677e494c"
      },
      "execution_count": null,
      "outputs": [
        {
          "output_type": "stream",
          "name": "stdout",
          "text": [
            "[3, 5]\n",
            "[3]\n"
          ]
        }
      ]
    },
    {
      "cell_type": "code",
      "source": [
        "num=1\n",
        "while num <= 10:\n",
        "    print(num)\n",
        "    num+=1\n"
      ],
      "metadata": {
        "colab": {
          "base_uri": "https://localhost:8080/"
        },
        "id": "3dAp3JJ_khJi",
        "outputId": "bdaa5710-965c-40f5-ac58-d7b29f9ecb67"
      },
      "execution_count": null,
      "outputs": [
        {
          "output_type": "stream",
          "name": "stdout",
          "text": [
            "1\n",
            "2\n",
            "3\n",
            "4\n",
            "5\n",
            "6\n",
            "7\n",
            "8\n",
            "9\n",
            "10\n"
          ]
        }
      ]
    },
    {
      "cell_type": "code",
      "source": [
        "i = 1\n",
        "k = 1\n",
        "while i <4:\n",
        "    while k < 10:\n",
        "        print(\"{} * {} = {}\".format(i,k,i*k))\n",
        "        k+=1\n",
        "    i+=1\n",
        "    k = 1\n",
        "\n",
        "    print(\"\\n\")\n"
      ],
      "metadata": {
        "colab": {
          "base_uri": "https://localhost:8080/"
        },
        "id": "pb1rOQoqlIIl",
        "outputId": "d974c2eb-9a0b-49b5-a55d-aeca6ebb5a21"
      },
      "execution_count": null,
      "outputs": [
        {
          "output_type": "stream",
          "name": "stdout",
          "text": [
            "1 * 1 = 1\n",
            "1 * 2 = 2\n",
            "1 * 3 = 3\n",
            "1 * 4 = 4\n",
            "1 * 5 = 5\n",
            "1 * 6 = 6\n",
            "1 * 7 = 7\n",
            "1 * 8 = 8\n",
            "1 * 9 = 9\n",
            "\n",
            "\n",
            "2 * 1 = 2\n",
            "2 * 2 = 4\n",
            "2 * 3 = 6\n",
            "2 * 4 = 8\n",
            "2 * 5 = 10\n",
            "2 * 6 = 12\n",
            "2 * 7 = 14\n",
            "2 * 8 = 16\n",
            "2 * 9 = 18\n",
            "\n",
            "\n",
            "3 * 1 = 3\n",
            "3 * 2 = 6\n",
            "3 * 3 = 9\n",
            "3 * 4 = 12\n",
            "3 * 5 = 15\n",
            "3 * 6 = 18\n",
            "3 * 7 = 21\n",
            "3 * 8 = 24\n",
            "3 * 9 = 27\n",
            "\n",
            "\n"
          ]
        }
      ]
    },
    {
      "cell_type": "code",
      "source": [
        "##로또 번호 6개 추출\n",
        "import random\n"
      ],
      "metadata": {
        "id": "94kgXGWPn7O9"
      },
      "execution_count": null,
      "outputs": []
    },
    {
      "cell_type": "code",
      "source": [
        "num_range = range(1,46)\n",
        "num_list  = list(num_range)\n",
        "print(num_list)"
      ],
      "metadata": {
        "colab": {
          "base_uri": "https://localhost:8080/"
        },
        "id": "TAfHr_EeqlGj",
        "outputId": "e511ba81-4b61-418f-c7c7-14c4a9d9e594"
      },
      "execution_count": null,
      "outputs": [
        {
          "output_type": "stream",
          "name": "stdout",
          "text": [
            "[1, 2, 3, 4, 5, 6, 7, 8, 9, 10, 11, 12, 13, 14, 15, 16, 17, 18, 19, 20, 21, 22, 23, 24, 25, 26, 27, 28, 29, 30, 31, 32, 33, 34, 35, 36, 37, 38, 39, 40, 41, 42, 43, 44, 45]\n"
          ]
        }
      ]
    },
    {
      "cell_type": "code",
      "source": [
        "import random\n",
        "\n",
        "random.shuffle(num_list)\n",
        "print(num_list)"
      ],
      "metadata": {
        "colab": {
          "base_uri": "https://localhost:8080/"
        },
        "id": "RpJ2xj2wryLO",
        "outputId": "d1f914d2-4508-4216-89cf-9b9f197c5147"
      },
      "execution_count": null,
      "outputs": [
        {
          "output_type": "stream",
          "name": "stdout",
          "text": [
            "[8, 9, 19, 21, 33, 29, 26, 37, 40, 45, 24, 17, 1, 5, 13, 18, 38, 23, 39, 22, 42, 14, 11, 4, 3, 35, 41, 6, 27, 20, 44, 30, 31, 15, 7, 2, 43, 12, 25, 34, 16, 28, 10, 32, 36]\n"
          ]
        }
      ]
    },
    {
      "cell_type": "code",
      "source": [
        "##로또 번호 6개 추출\n",
        "lotto=[]\n",
        "while len(lotto) < 6:\n",
        "    random.shuffle(num_list)\n",
        "#원하는 위치에 원소 추출\n",
        "    num_selected = num_list[0]\n",
        "    lotto.append(num_selected)\n",
        "    print(lotto)    \n"
      ],
      "metadata": {
        "colab": {
          "base_uri": "https://localhost:8080/"
        },
        "id": "CevEjKpasIBv",
        "outputId": "1fec5b87-e4a7-4fa0-d87c-f83c04c9ad8d"
      },
      "execution_count": null,
      "outputs": [
        {
          "output_type": "stream",
          "name": "stdout",
          "text": [
            "[13]\n",
            "[13, 7]\n",
            "[13, 7, 6]\n",
            "[13, 7, 6, 6]\n",
            "[13, 7, 6, 6, 19]\n",
            "[13, 7, 6, 6, 19, 15]\n"
          ]
        }
      ]
    },
    {
      "cell_type": "markdown",
      "source": [
        "##숫자 샘플링"
      ],
      "metadata": {
        "id": "0wRDjGEOs0NR"
      }
    },
    {
      "cell_type": "code",
      "source": [
        "A = []\n",
        "while True:\n",
        "    e = round(random.random(),2)\n",
        "    A.append(e)\n",
        "    "
      ],
      "metadata": {
        "id": "jKSGk-IAtE2v"
      },
      "execution_count": null,
      "outputs": []
    },
    {
      "cell_type": "code",
      "source": [
        "import random\n",
        "\n",
        "num = 0\n",
        "while num < 10:\n",
        "    e = random.randint(1,30)\n",
        "    num+=1\n",
        "    print(e)"
      ],
      "metadata": {
        "colab": {
          "base_uri": "https://localhost:8080/"
        },
        "id": "nb5Kia_Kt26V",
        "outputId": "4bfa6ea5-83b9-4b57-ea49-01f22fc0f85a"
      },
      "execution_count": null,
      "outputs": [
        {
          "output_type": "stream",
          "name": "stdout",
          "text": [
            "10\n",
            "2\n",
            "15\n",
            "21\n",
            "29\n",
            "1\n",
            "28\n",
            "2\n",
            "27\n",
            "30\n"
          ]
        }
      ]
    },
    {
      "cell_type": "markdown",
      "source": [
        "# 약수 찾기\n"
      ],
      "metadata": {
        "id": "aE5vFOofg-3i"
      }
    },
    {
      "cell_type": "code",
      "source": [
        "f=[]\n",
        "a = 12\n",
        "for i in range(1,a+1):\n",
        "    if a%i == 0:\n",
        "        f.append(i)\n",
        "print(f)       \n",
        "\n"
      ],
      "metadata": {
        "colab": {
          "base_uri": "https://localhost:8080/"
        },
        "id": "ISqPjDE_hDqR",
        "outputId": "9e05149c-f47b-4e0c-de34-44813ec68652"
      },
      "execution_count": null,
      "outputs": [
        {
          "output_type": "stream",
          "name": "stdout",
          "text": [
            "[1, 2, 3, 4, 6, 12]\n"
          ]
        }
      ]
    },
    {
      "cell_type": "code",
      "source": [
        "n=[]\n",
        "a = int(input())\n",
        "for i in range(1,a+1):\n",
        "    if a%i == 0:\n",
        "        n.append(i)\n",
        "print(n)       \n",
        "\n"
      ],
      "metadata": {
        "colab": {
          "base_uri": "https://localhost:8080/"
        },
        "id": "6DWizJWUitAK",
        "outputId": "0e92398e-960e-4db7-e2bf-f48cac267d60"
      },
      "execution_count": null,
      "outputs": [
        {
          "output_type": "stream",
          "name": "stdout",
          "text": [
            "16\n",
            "[1, 2, 4, 8, 16]\n"
          ]
        }
      ]
    },
    {
      "cell_type": "markdown",
      "source": [
        "# 최대공약수"
      ],
      "metadata": {
        "id": "UY3WYJqLjnHz"
      }
    },
    {
      "cell_type": "code",
      "source": [
        "n_1=[]\n",
        "a = int(input())\n",
        "for i in range(1,a+1):\n",
        "    if a%i == 0:\n",
        "        n_1.append(i)\n",
        "print(n_1)"
      ],
      "metadata": {
        "colab": {
          "base_uri": "https://localhost:8080/"
        },
        "id": "jCyEbn-0jqn0",
        "outputId": "41d975d4-8418-4730-d1a5-16a37c7b97d0"
      },
      "execution_count": null,
      "outputs": [
        {
          "output_type": "stream",
          "name": "stdout",
          "text": [
            "24\n",
            "[1, 2, 3, 4, 6, 8, 12, 24]\n"
          ]
        }
      ]
    },
    {
      "cell_type": "code",
      "source": [
        "n_2=[]\n",
        "b = int(input())\n",
        "for i in range(1,b+1):\n",
        "    if b%i == 0:\n",
        "        n_2.append(i)\n",
        "print(n_2)"
      ],
      "metadata": {
        "colab": {
          "base_uri": "https://localhost:8080/"
        },
        "id": "STbfLBlckkO7",
        "outputId": "cec5870b-731b-410f-8818-1dd8d058f542"
      },
      "execution_count": null,
      "outputs": [
        {
          "output_type": "stream",
          "name": "stdout",
          "text": [
            "36\n",
            "[1, 2, 3, 4, 6, 9, 12, 18, 36]\n"
          ]
        }
      ]
    },
    {
      "cell_type": "code",
      "source": [
        "#두 수의 교집합\n",
        "n_3=[]\n",
        "for i in n_1:\n",
        "    if i in n_2:\n",
        "        n_3.append(i)\n",
        "print(n_3)\n",
        "x=n_3[-1]  #마지막 수 인덱싱으로 빼내기\n",
        "print(\"{}와 {}의 최대 공약수 : {}\". format(a,b,x))        "
      ],
      "metadata": {
        "colab": {
          "base_uri": "https://localhost:8080/"
        },
        "id": "gbOun-rQkqK7",
        "outputId": "9cc955d9-3eca-4aa7-c902-03a976260f80"
      },
      "execution_count": null,
      "outputs": [
        {
          "output_type": "stream",
          "name": "stdout",
          "text": [
            "[1, 2, 3, 4, 6, 12]\n",
            "36와 36의 최대 공약수 : 12\n"
          ]
        }
      ]
    },
    {
      "cell_type": "markdown",
      "source": [
        "# 최소공배수\n"
      ],
      "metadata": {
        "id": "rwTZ9IcWmlVM"
      }
    },
    {
      "cell_type": "code",
      "source": [
        "A = 36\n",
        "B = 24\n",
        "n_3 = 12\n",
        "n_4 = A*B/n_3\n",
        "print(n_4)\n"
      ],
      "metadata": {
        "colab": {
          "base_uri": "https://localhost:8080/"
        },
        "id": "BkQ0q5zumopb",
        "outputId": "4277b7f0-b855-4f0c-867f-52d42f0acb65"
      },
      "execution_count": null,
      "outputs": [
        {
          "output_type": "stream",
          "name": "stdout",
          "text": [
            "72.0\n"
          ]
        }
      ]
    },
    {
      "cell_type": "markdown",
      "source": [
        "# 소인수"
      ],
      "metadata": {
        "id": "dgG2dc5coya0"
      }
    },
    {
      "cell_type": "code",
      "source": [
        "f=[]\n",
        "a=int(input())\n",
        "for i in range(2,a):\n",
        "    while(a%i==0):\n",
        "        f.append(i)\n",
        "        a = a/i\n",
        "print(f)\n"
      ],
      "metadata": {
        "colab": {
          "base_uri": "https://localhost:8080/"
        },
        "id": "KcGe6-8Ko1mk",
        "outputId": "0e24d64d-0710-4fbd-d52b-a1df78ab1665"
      },
      "execution_count": null,
      "outputs": [
        {
          "output_type": "stream",
          "name": "stdout",
          "text": [
            "15\n",
            "[3, 5]\n"
          ]
        }
      ]
    },
    {
      "cell_type": "markdown",
      "source": [
        "# prime number"
      ],
      "metadata": {
        "id": "63XdG_wPqgN7"
      }
    },
    {
      "cell_type": "code",
      "source": [
        "a= int(input())\n",
        "prim = True\n",
        "for i in range(2,a):\n",
        "    if (a%i == 0):\n",
        "        prim = False\n",
        "    \n",
        "if prim == True:\n",
        "    print(\"소수\\n\")\n",
        "else :\n",
        "    print(\"합성수\\n\")   \n"
      ],
      "metadata": {
        "colab": {
          "base_uri": "https://localhost:8080/"
        },
        "id": "7_Z1fHkJqjWz",
        "outputId": "fb8db0ee-f34f-432a-a9cd-6822d46df550"
      },
      "execution_count": null,
      "outputs": [
        {
          "output_type": "stream",
          "name": "stdout",
          "text": [
            "16\n",
            "합성수\n",
            "\n"
          ]
        }
      ]
    },
    {
      "cell_type": "code",
      "source": [
        "i=1\n",
        "t=1\n",
        "prim=True\n",
        "f=[]\n",
        "while t < 100:\n",
        "    prim = True\n",
        "    for i in range(2,t):\n",
        "        if(t % i ==0):\n",
        "            prim = False\n",
        "    if(prim == True):\n",
        "        f.append(t)\n",
        "    t+=1\n",
        "f.remove(1)\n",
        "print(f)    \n"
      ],
      "metadata": {
        "colab": {
          "base_uri": "https://localhost:8080/"
        },
        "id": "zID8kx58sZUW",
        "outputId": "f4ff96af-ba59-45b0-8488-eb49ed73fa24"
      },
      "execution_count": 5,
      "outputs": [
        {
          "output_type": "stream",
          "name": "stdout",
          "text": [
            "[2, 3, 5, 7, 11, 13, 17, 19, 23, 29, 31, 37, 41, 43, 47, 53, 59, 61, 67, 71, 73, 79, 83, 89, 97]\n"
          ]
        }
      ]
    }
  ]
}
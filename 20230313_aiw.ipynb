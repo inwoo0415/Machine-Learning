{
  "nbformat": 4,
  "nbformat_minor": 0,
  "metadata": {
    "colab": {
      "provenance": [],
      "authorship_tag": "ABX9TyOdXXI2NW7qYS+wkbXU/UMN",
      "include_colab_link": true
    },
    "kernelspec": {
      "name": "python3",
      "display_name": "Python 3"
    },
    "language_info": {
      "name": "python"
    },
    "accelerator": "GPU",
    "gpuClass": "standard"
  },
  "cells": [
    {
      "cell_type": "markdown",
      "metadata": {
        "id": "view-in-github",
        "colab_type": "text"
      },
      "source": [
        "<a href=\"https://colab.research.google.com/github/inwoo0415/Machine-Learning/blob/main/20230313_aiw.ipynb\" target=\"_parent\"><img src=\"https://colab.research.google.com/assets/colab-badge.svg\" alt=\"Open In Colab\"/></a>"
      ]
    },
    {
      "cell_type": "markdown",
      "source": [
        "# 데이터 타입"
      ],
      "metadata": {
        "id": "n8-ieKRuWXZ2"
      }
    },
    {
      "cell_type": "code",
      "execution_count": null,
      "metadata": {
        "colab": {
          "base_uri": "https://localhost:8080/"
        },
        "id": "OoXY_9xNV_Cr",
        "outputId": "8c87d3b5-9fed-482b-e0f6-1471c723e3ff"
      },
      "outputs": [
        {
          "output_type": "execute_result",
          "data": {
            "text/plain": [
              "str"
            ]
          },
          "metadata": {},
          "execution_count": 1
        }
      ],
      "source": [
        "a = 3\n",
        "b = 7.9\n",
        "c = \"Hello\"\n",
        "\n",
        "type(a)\n",
        "type(b)\n",
        "type(c)\n",
        "\n",
        "a = str(a)\n",
        "type(a) : 데이터 유형 알아보기"
      ]
    },
    {
      "cell_type": "code",
      "source": [],
      "metadata": {
        "id": "dkgXksuUWoXe"
      },
      "execution_count": null,
      "outputs": []
    },
    {
      "cell_type": "markdown",
      "source": [
        "# 입력과 출력\n",
        "\n",
        "input() : 문자열로 출력!!!! \n",
        "\n",
        "a = 정수 b = 실수 c= 문자열\n",
        "print() : 1. print(\" 출력하려는 데이터  \". format(a,b,c))"
      ],
      "metadata": {
        "id": "a8H5BJYkWpB2"
      }
    },
    {
      "cell_type": "code",
      "source": [
        " a = int(input())"
      ],
      "metadata": {
        "id": "hobMrE80WxkH"
      },
      "execution_count": null,
      "outputs": []
    },
    {
      "cell_type": "code",
      "source": [
        "print(a)"
      ],
      "metadata": {
        "id": "68PGGlg4W8jN"
      },
      "execution_count": null,
      "outputs": []
    },
    {
      "cell_type": "code",
      "source": [
        "print(\"{} 와 {}을 출력하라. \".format(a,b,c))"
      ],
      "metadata": {
        "id": "Nh2ghRDiXWYd"
      },
      "execution_count": null,
      "outputs": []
    },
    {
      "cell_type": "code",
      "source": [
        "print(\"%d %f %s 를 출력하라\"%(a,b,c))"
      ],
      "metadata": {
        "id": "t49gYKoQXWSG"
      },
      "execution_count": null,
      "outputs": []
    },
    {
      "cell_type": "code",
      "source": [
        "x = round(x,3)  "
      ],
      "metadata": {
        "id": "XaPLL7HEXWG2"
      },
      "execution_count": null,
      "outputs": []
    },
    {
      "cell_type": "markdown",
      "source": [
        "# 인덱싱 = 변수이름[위치] ex) len () : 변수의 길이 or 데이터갯수\n",
        "슬라이싱 = ex) str1[1 : 3] -> x는 1이상 3미만"
      ],
      "metadata": {
        "id": "x21p3U4vaD6-"
      }
    },
    {
      "cell_type": "code",
      "source": [
        "str1 = \"Hello~~!! python\""
      ],
      "metadata": {
        "id": "S56DiUbtaHV9"
      },
      "execution_count": null,
      "outputs": []
    },
    {
      "cell_type": "code",
      "source": [
        "len(str1)"
      ],
      "metadata": {
        "colab": {
          "base_uri": "https://localhost:8080/"
        },
        "id": "QtB3e0ioaNH1",
        "outputId": "529ba180-29c7-42b4-d5ea-19c555ed72d9"
      },
      "execution_count": null,
      "outputs": [
        {
          "output_type": "execute_result",
          "data": {
            "text/plain": [
              "16"
            ]
          },
          "metadata": {},
          "execution_count": 4
        }
      ]
    },
    {
      "cell_type": "code",
      "source": [
        "str1[0:] // 0에서 마지막 갯수까지"
      ],
      "metadata": {
        "colab": {
          "base_uri": "https://localhost:8080/",
          "height": 137
        },
        "id": "HX-9pyneawZd",
        "outputId": "fbfc0596-8588-42b9-adc9-3c8d562db15d"
      },
      "execution_count": null,
      "outputs": [
        {
          "output_type": "error",
          "ename": "SyntaxError",
          "evalue": "ignored",
          "traceback": [
            "\u001b[0;36m  File \u001b[0;32m\"<ipython-input-6-68d5ed658feb>\"\u001b[0;36m, line \u001b[0;32m1\u001b[0m\n\u001b[0;31m    str1[0:] // 0에서 마지막 갯수까지\u001b[0m\n\u001b[0m                 ^\u001b[0m\n\u001b[0;31mSyntaxError\u001b[0m\u001b[0;31m:\u001b[0m invalid syntax\n"
          ]
        }
      ]
    },
    {
      "cell_type": "code",
      "source": [
        "str1[-1:-3]"
      ],
      "metadata": {
        "colab": {
          "base_uri": "https://localhost:8080/",
          "height": 35
        },
        "id": "2EF3c3bAa8EE",
        "outputId": "d0fc00d3-8ee5-4041-b6a4-a00def6dea01"
      },
      "execution_count": null,
      "outputs": [
        {
          "output_type": "execute_result",
          "data": {
            "text/plain": [
              "''"
            ],
            "application/vnd.google.colaboratory.intrinsic+json": {
              "type": "string"
            }
          },
          "metadata": {},
          "execution_count": 8
        }
      ]
    },
    {
      "cell_type": "code",
      "source": [
        "str1[3:6]"
      ],
      "metadata": {
        "colab": {
          "base_uri": "https://localhost:8080/",
          "height": 35
        },
        "id": "Kkuej7jabhcE",
        "outputId": "181cf344-109d-44dc-dbc6-2cae21c9b6cb"
      },
      "execution_count": null,
      "outputs": [
        {
          "output_type": "execute_result",
          "data": {
            "text/plain": [
              "'lo~'"
            ],
            "application/vnd.google.colaboratory.intrinsic+json": {
              "type": "string"
            }
          },
          "metadata": {},
          "execution_count": 10
        }
      ]
    },
    {
      "cell_type": "code",
      "source": [
        "str1[:-1]"
      ],
      "metadata": {
        "colab": {
          "base_uri": "https://localhost:8080/",
          "height": 35
        },
        "id": "gqD1Thfya8Jc",
        "outputId": "a871b302-c3e6-41ee-ae5e-a0d9ec29a6cb"
      },
      "execution_count": null,
      "outputs": [
        {
          "output_type": "execute_result",
          "data": {
            "text/plain": [
              "'Hello~~!! pytho'"
            ],
            "application/vnd.google.colaboratory.intrinsic+json": {
              "type": "string"
            }
          },
          "metadata": {},
          "execution_count": 9
        }
      ]
    },
    {
      "cell_type": "markdown",
      "source": [
        "# 새 섹션\n",
        "list : 집합(원소의 변화가 있음) ex) list1 = [1, 2, 3, 4, 5]\n"
      ],
      "metadata": {
        "id": "EXhDdbNUcV6-"
      }
    },
    {
      "cell_type": "markdown",
      "source": [
        "튜플 : 원소의 변화가 없음   ex) list1 = (1, 2, 3, 4 ,5)"
      ],
      "metadata": {
        "id": "j8KZBYORcw4G"
      }
    },
    {
      "cell_type": "markdown",
      "source": [
        "딕셔너리 dict1 = {\"이름\", \"나이 ...} \n",
        "딕셔너리 : {}기호 사용\n",
        "함수,듀플 : (기호 사용 \n",
        "인덱스, 슬라이싱 : []기호 사용 -> 원소와 관련된 내용 "
      ],
      "metadata": {
        "id": "aU3kp2Kqc56U"
      }
    },
    {
      "cell_type": "code",
      "source": [
        "dict1 = {\"name\":\"Ahn In Woo\", \"age\":\"26\", \"school\":\"Halla university\"}"
      ],
      "metadata": {
        "id": "xcR1CxpLdF5W"
      },
      "execution_count": null,
      "outputs": []
    },
    {
      "cell_type": "code",
      "source": [
        "dict1[\"name\"]"
      ],
      "metadata": {
        "colab": {
          "base_uri": "https://localhost:8080/",
          "height": 35
        },
        "id": "yrEgwmHZdk_1",
        "outputId": "5398e309-d658-4082-b597-bd855beedd8c"
      },
      "execution_count": null,
      "outputs": [
        {
          "output_type": "execute_result",
          "data": {
            "text/plain": [
              "'Ahn In Woo'"
            ],
            "application/vnd.google.colaboratory.intrinsic+json": {
              "type": "string"
            }
          },
          "metadata": {},
          "execution_count": 13
        }
      ]
    },
    {
      "cell_type": "code",
      "source": [
        "dict1.keys()"
      ],
      "metadata": {
        "colab": {
          "base_uri": "https://localhost:8080/"
        },
        "id": "BXubTC8Zdr5s",
        "outputId": "52f63ca5-2b54-4d84-fb1a-cb6fc33ba8b0"
      },
      "execution_count": null,
      "outputs": [
        {
          "output_type": "execute_result",
          "data": {
            "text/plain": [
              "dict_keys(['name', 'age', 'school'])"
            ]
          },
          "metadata": {},
          "execution_count": 14
        }
      ]
    },
    {
      "cell_type": "code",
      "source": [
        "dict1.items()"
      ],
      "metadata": {
        "colab": {
          "base_uri": "https://localhost:8080/"
        },
        "id": "ZrcpyALYdyL-",
        "outputId": "bf71a3a1-b6e0-40bd-efd8-7f1b01d25017"
      },
      "execution_count": null,
      "outputs": [
        {
          "output_type": "execute_result",
          "data": {
            "text/plain": [
              "dict_items([('name', 'Ahn In Woo'), ('age', '26'), ('school', 'Halla university')])"
            ]
          },
          "metadata": {},
          "execution_count": 15
        }
      ]
    },
    {
      "cell_type": "code",
      "source": [
        "dict1.values()"
      ],
      "metadata": {
        "colab": {
          "base_uri": "https://localhost:8080/"
        },
        "id": "_IoD5kGMd4Vm",
        "outputId": "a8647e62-e6c5-41e7-9deb-d814b48f3aa1"
      },
      "execution_count": null,
      "outputs": [
        {
          "output_type": "execute_result",
          "data": {
            "text/plain": [
              "dict_values(['Ahn In Woo', '26', 'Halla university'])"
            ]
          },
          "metadata": {},
          "execution_count": 16
        }
      ]
    },
    {
      "cell_type": "code",
      "source": [
        "x = 3\n",
        "y = 7\n",
        "z = 11 "
      ],
      "metadata": {
        "id": "SFCMEL-VjHTH"
      },
      "execution_count": null,
      "outputs": []
    },
    {
      "cell_type": "code",
      "source": [
        "z/x"
      ],
      "metadata": {
        "colab": {
          "base_uri": "https://localhost:8080/"
        },
        "id": "ljZQ6N12jLT5",
        "outputId": "03e0bf5b-069b-4e04-8aee-ed61578f0022"
      },
      "execution_count": null,
      "outputs": [
        {
          "output_type": "execute_result",
          "data": {
            "text/plain": [
              "3.6666666666666665"
            ]
          },
          "metadata": {},
          "execution_count": 3
        }
      ]
    },
    {
      "cell_type": "code",
      "source": [
        "a1=z/x"
      ],
      "metadata": {
        "id": "nE4g4zTdje0P"
      },
      "execution_count": null,
      "outputs": []
    },
    {
      "cell_type": "code",
      "source": [
        "round(a1,4)"
      ],
      "metadata": {
        "colab": {
          "base_uri": "https://localhost:8080/"
        },
        "id": "vwEMvK4Tjln_",
        "outputId": "d685c2f4-0705-40eb-daa6-95cfbb5337bd"
      },
      "execution_count": null,
      "outputs": [
        {
          "output_type": "execute_result",
          "data": {
            "text/plain": [
              "3.6667"
            ]
          },
          "metadata": {},
          "execution_count": 5
        }
      ]
    },
    {
      "cell_type": "code",
      "source": [
        "z//x"
      ],
      "metadata": {
        "colab": {
          "base_uri": "https://localhost:8080/"
        },
        "id": "Zo-4HK-tjvQB",
        "outputId": "5532ad9e-ec74-40f9-8b65-cc54159376c6"
      },
      "execution_count": null,
      "outputs": [
        {
          "output_type": "execute_result",
          "data": {
            "text/plain": [
              "3"
            ]
          },
          "metadata": {},
          "execution_count": 7
        }
      ]
    },
    {
      "cell_type": "code",
      "source": [
        "z%x"
      ],
      "metadata": {
        "colab": {
          "base_uri": "https://localhost:8080/"
        },
        "id": "Ors2tqifj0m3",
        "outputId": "04ae60c8-a6ec-4152-c163-27fccf614c40"
      },
      "execution_count": null,
      "outputs": [
        {
          "output_type": "execute_result",
          "data": {
            "text/plain": [
              "2"
            ]
          },
          "metadata": {},
          "execution_count": 8
        }
      ]
    },
    {
      "cell_type": "markdown",
      "source": [
        "조건문\n",
        "1. if 조건 :\n",
        "      명령어\n",
        "\n",
        "2. if 조건 :\n",
        "      명령어\n",
        "   elif 조건 :\n",
        "      명령어\n",
        "   else:\n",
        "      명령어\n",
        "\n",
        "3. if 조건 :\n",
        "      명령어\n",
        "   else:\n",
        "      명령어\n",
        "               "
      ],
      "metadata": {
        "id": "TVGyi2VelEwr"
      }
    },
    {
      "cell_type": "code",
      "source": [
        "if a<3:\n",
        "    print(\"True\")\n",
        "else:\n",
        "    print(\"False\")   "
      ],
      "metadata": {
        "id": "-z0e4uCYk2K7"
      },
      "execution_count": null,
      "outputs": []
    },
    {
      "cell_type": "code",
      "source": [
        "x = int(input())\n",
        "\n",
        "if x%2==0:\n",
        "    print(\"짝수입니다\")\n",
        "else:\n",
        "    print(\"홀수입니다\")"
      ],
      "metadata": {
        "colab": {
          "base_uri": "https://localhost:8080/"
        },
        "id": "dLc9Uc8-nE_9",
        "outputId": "37928c99-a2e9-4796-b336-99b9ba92555e"
      },
      "execution_count": null,
      "outputs": [
        {
          "output_type": "stream",
          "name": "stdout",
          "text": [
            "3\n",
            "홀수입니다\n"
          ]
        }
      ]
    },
    {
      "cell_type": "code",
      "source": [
        "score = int(input())\n",
        "\n",
        "if score >=90:\n",
        "    if score <= 100:\n",
        "        print(\"A\")\n",
        "elif score >=80:\n",
        "    print(\"B\")\n",
        "elif score >=70:\n",
        "    print(\"C\")\n",
        "elif score >=60:\n",
        "    print(\"D\")\n",
        "else:        \n",
        "     print(\"F\")"
      ],
      "metadata": {
        "colab": {
          "base_uri": "https://localhost:8080/"
        },
        "id": "lpP2xfq3n5zM",
        "outputId": "699b8410-3d6c-4d66-dbce-bcb5d93c4834"
      },
      "execution_count": null,
      "outputs": [
        {
          "name": "stdout",
          "output_type": "stream",
          "text": [
            "1004\n"
          ]
        }
      ]
    },
    {
      "cell_type": "code",
      "source": [
        "print(\"pw입력\")\n",
        "// 로그인 확인하기\n",
        "pw : \"Abcd!#12\"\n"
      ],
      "metadata": {
        "id": "FK8QWsvNrbys"
      },
      "execution_count": null,
      "outputs": []
    },
    {
      "cell_type": "markdown",
      "source": [
        "1. 태어난 해 입력\n",
        "2. 소수 찾기(prime number)\n",
        "3  윤년검색(4의 배수이나 100의 배수가 아니면서 400의 배수 -> 윤년\n"
      ],
      "metadata": {
        "id": "PBfYj_Cws2Rp"
      }
    },
    {
      "cell_type": "code",
      "source": [
        "year_input=int(input(\"태어난 해를 입력: \"))\n",
        "birth_year=year_input%12\n",
        "\n",
        "if birth_year==0:\n",
        "    print(\"원숭이 띠입니다.\")\n",
        "\n",
        "elif birth_year==1:\n",
        "    print(\"닭 띠입니다.\")\n",
        "\n",
        "elif birth_year==2:\n",
        "    print(\"개 띠입니다.\")\n",
        "\n",
        "elif birth_year==3:\n",
        "    print(\"돼지 띠입니다.\")\n",
        "\n",
        "elif birth_year==4:\n",
        "    print(\"쥐 띠입니다.\")\n",
        "\n",
        "elif birth_year==5:\n",
        "    print(\"소 띠입니다.\")\n",
        "\n",
        "elif birth_year==6:\n",
        "    print(\"호랑이 띠입니다.\")\n",
        "\n",
        "elif birth_year==7:\n",
        "    print(\"토끼 띠입니다.\")\n",
        "\n",
        "elif birth_year==8:\n",
        "    print(\"용 띠입니다.\")\n",
        "\n",
        "elif birth_year==9:\n",
        "    print(\"뱀 띠입니다.\")\n",
        "\n",
        "elif birth_year==10:\n",
        "    print(\"말 띠입니다.\")\n",
        "\n",
        "else:\n",
        "    print(\"양 띠입니다.\")"
      ],
      "metadata": {
        "colab": {
          "base_uri": "https://localhost:8080/"
        },
        "id": "qaJeGHBgTeoa",
        "outputId": "c348fbca-7a8a-4462-9b95-ab506bb36dc4"
      },
      "execution_count": 1,
      "outputs": [
        {
          "output_type": "stream",
          "name": "stdout",
          "text": [
            "태어난 해를 입력: 1998\n",
            "범 띠입니다.\n"
          ]
        }
      ]
    },
    {
      "cell_type": "code",
      "source": [
        "\n",
        "year = int(input())\n",
        "\n",
        "if ((year % 4 == 0) and (year % 100 != 0)) or (year % 400 == 0): \n",
        "    print('yes')\n",
        "else:\n",
        "    print('no')"
      ],
      "metadata": {
        "colab": {
          "base_uri": "https://localhost:8080/"
        },
        "id": "BEHFcwqyT2sM",
        "outputId": "6c755a5c-c72f-4ae2-e317-462a1aaae862"
      },
      "execution_count": 3,
      "outputs": [
        {
          "output_type": "stream",
          "name": "stdout",
          "text": [
            "1998\n",
            "no\n"
          ]
        }
      ]
    }
  ]
}